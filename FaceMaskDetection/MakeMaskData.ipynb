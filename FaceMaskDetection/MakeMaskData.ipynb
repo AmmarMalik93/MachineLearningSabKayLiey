{
  "nbformat": 4,
  "nbformat_minor": 0,
  "metadata": {
    "colab": {
      "name": "MakeMaskData.ipynb",
      "provenance": [],
      "authorship_tag": "ABX9TyMLBXEa4BAKMltP2LJqwLV6",
      "include_colab_link": true
    },
    "kernelspec": {
      "name": "python3",
      "display_name": "Python 3"
    }
  },
  "cells": [
    {
      "cell_type": "markdown",
      "metadata": {
        "id": "view-in-github",
        "colab_type": "text"
      },
      "source": [
        "<a href=\"https://colab.research.google.com/github/AmmarMalik93/MachineLearningSabKayLiey/blob/master/FaceMaskDetection/MakeMaskData.ipynb\" target=\"_parent\"><img src=\"https://colab.research.google.com/assets/colab-badge.svg\" alt=\"Open In Colab\"/></a>"
      ]
    },
    {
      "cell_type": "code",
      "metadata": {
        "id": "AjaJALWv59-5",
        "colab_type": "code",
        "outputId": "d133086f-fd13-4705-af98-8f9238aee203",
        "colab": {
          "base_uri": "https://localhost:8080/",
          "height": 122
        }
      },
      "source": [
        "from google.colab import drive\n",
        "drive.mount('/content/gdrive')"
      ],
      "execution_count": 0,
      "outputs": [
        {
          "output_type": "stream",
          "text": [
            "Go to this URL in a browser: https://accounts.google.com/o/oauth2/auth?client_id=947318989803-6bn6qk8qdgf4n4g3pfee6491hc0brc4i.apps.googleusercontent.com&redirect_uri=urn%3aietf%3awg%3aoauth%3a2.0%3aoob&response_type=code&scope=email%20https%3a%2f%2fwww.googleapis.com%2fauth%2fdocs.test%20https%3a%2f%2fwww.googleapis.com%2fauth%2fdrive%20https%3a%2f%2fwww.googleapis.com%2fauth%2fdrive.photos.readonly%20https%3a%2f%2fwww.googleapis.com%2fauth%2fpeopleapi.readonly\n",
            "\n",
            "Enter your authorization code:\n",
            "··········\n",
            "Mounted at /content/gdrive\n"
          ],
          "name": "stdout"
        }
      ]
    },
    {
      "cell_type": "code",
      "metadata": {
        "id": "ziWXCsDr-rBM",
        "colab_type": "code",
        "colab": {}
      },
      "source": [
        "import matplotlib.pyplot as plt\n",
        "import tensorflow as tf\n",
        "import glob\n",
        "import numpy as np\n",
        "from tqdm import tqdm"
      ],
      "execution_count": 0,
      "outputs": []
    },
    {
      "cell_type": "code",
      "metadata": {
        "id": "ziQpQdWo6HbO",
        "colab_type": "code",
        "colab": {}
      },
      "source": [
        "PATH = 'gdrive/My Drive/Colab Notebooks/ML_YouTube_Course/MaskDataset/'\n",
        "\n",
        "mask_image_files = glob.glob(PATH+'mask/*.png')\n",
        "no_mask_image_files = glob.glob(PATH+'no_mask/*.png')\n",
        "#filename = PATH+'dataset.npz'\n",
        "#npzfile = np.load(filename)\n",
        "#mask = npzfile['mask']\n",
        "#no_mask = npzfile['no_mask']"
      ],
      "execution_count": 0,
      "outputs": []
    },
    {
      "cell_type": "code",
      "metadata": {
        "id": "iAqe6n9Y684e",
        "colab_type": "code",
        "colab": {}
      },
      "source": [
        "width = 160\n",
        "height = 160"
      ],
      "execution_count": 0,
      "outputs": []
    },
    {
      "cell_type": "code",
      "metadata": {
        "id": "H3NhVR5b8Squ",
        "colab_type": "code",
        "outputId": "37bed7e9-c38f-4e39-dc94-1c4544f0035b",
        "colab": {
          "base_uri": "https://localhost:8080/",
          "height": 34
        }
      },
      "source": [
        "mask = np.empty((len(mask_image_files),width,height,3))\n",
        "i = 0\n",
        "for filename in tqdm(mask_image_files):\n",
        "#  pixels = load_img(filename, target_size = (width,height))\n",
        "#  pixels = img_to_array(pixels)\n",
        "  pixels = plt.imread(filename)\n",
        "  mask[i,:,:] = pixels\n",
        "  i = i + 1"
      ],
      "execution_count": 0,
      "outputs": [
        {
          "output_type": "stream",
          "text": [
            "100%|██████████| 1281/1281 [06:41<00:00,  3.19it/s]\n"
          ],
          "name": "stderr"
        }
      ]
    },
    {
      "cell_type": "code",
      "metadata": {
        "id": "pR6b8mFUF3Fr",
        "colab_type": "code",
        "outputId": "6fe7b141-7891-4682-9bbe-a640c0f41ef2",
        "colab": {
          "base_uri": "https://localhost:8080/",
          "height": 34
        }
      },
      "source": [
        "no_mask = np.empty((len(no_mask_image_files),width,height,3))\n",
        "i = 0\n",
        "for filenames in tqdm(no_mask_image_files):\n",
        "#  pixel = load_img(filenames, target_size = (width,height))\n",
        "#  pixel = img_to_array(pixel)\n",
        "  pixel = plt.imread(filenames)\n",
        "  no_mask[i,:,:] = pixel\n",
        "  i = i + 1"
      ],
      "execution_count": 0,
      "outputs": [
        {
          "output_type": "stream",
          "text": [
            "100%|██████████| 1486/1486 [06:49<00:00,  3.63it/s]\n"
          ],
          "name": "stderr"
        }
      ]
    },
    {
      "cell_type": "code",
      "metadata": {
        "id": "hslHnmmZNeJh",
        "colab_type": "code",
        "colab": {}
      },
      "source": [
        "outfile = PATH+'dataset.npz'\n",
        "np.savez(outfile,mask=mask,no_mask=no_mask)"
      ],
      "execution_count": 0,
      "outputs": []
    },
    {
      "cell_type": "code",
      "metadata": {
        "id": "tsNYA8gAKJWi",
        "colab_type": "code",
        "outputId": "eb48c201-a56e-45da-b2f7-05c9cefe77e3",
        "colab": {
          "base_uri": "https://localhost:8080/",
          "height": 34
        }
      },
      "source": [
        "#no_mask = np.zeros((len(no_mask_image_files),160,160,3))\n",
        "no_mask.shape"
      ],
      "execution_count": 0,
      "outputs": [
        {
          "output_type": "execute_result",
          "data": {
            "text/plain": [
              "(1486, 160, 160, 3)"
            ]
          },
          "metadata": {
            "tags": []
          },
          "execution_count": 8
        }
      ]
    }
  ]
}